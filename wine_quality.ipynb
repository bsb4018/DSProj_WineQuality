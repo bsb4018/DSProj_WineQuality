{
 "cells": [
  {
   "cell_type": "code",
   "execution_count": 37,
   "id": "88783bca-be7d-4dd4-a569-be1327ada18a",
   "metadata": {},
   "outputs": [],
   "source": [
    "#GIVEN A RED WINE DATASET PREDICT THE QUALITY OF WINE"
   ]
  },
  {
   "cell_type": "code",
   "execution_count": 38,
   "id": "f13ec0c5-ce15-4cb6-aaad-ed8d3c9294be",
   "metadata": {},
   "outputs": [],
   "source": [
    "import numpy as np\n",
    "import pandas as pd\n",
    "import seaborn as sns\n",
    "import matplotlib.pyplot as plt"
   ]
  },
  {
   "cell_type": "code",
   "execution_count": 39,
   "id": "75945ba6-9fbb-42b4-bca3-a6f5db01eaaf",
   "metadata": {},
   "outputs": [],
   "source": [
    "df_initial = pd.read_csv('winedata.csv')"
   ]
  },
  {
   "cell_type": "code",
   "execution_count": 40,
   "id": "0d49555e-19da-4542-806d-5da42b6fc194",
   "metadata": {},
   "outputs": [
    {
     "data": {
      "text/html": [
       "<div>\n",
       "<style scoped>\n",
       "    .dataframe tbody tr th:only-of-type {\n",
       "        vertical-align: middle;\n",
       "    }\n",
       "\n",
       "    .dataframe tbody tr th {\n",
       "        vertical-align: top;\n",
       "    }\n",
       "\n",
       "    .dataframe thead th {\n",
       "        text-align: right;\n",
       "    }\n",
       "</style>\n",
       "<table border=\"1\" class=\"dataframe\">\n",
       "  <thead>\n",
       "    <tr style=\"text-align: right;\">\n",
       "      <th></th>\n",
       "      <th>fixed acidity</th>\n",
       "      <th>volatile acidity</th>\n",
       "      <th>citric acid</th>\n",
       "      <th>residual sugar</th>\n",
       "      <th>chlorides</th>\n",
       "      <th>free sulfur dioxide</th>\n",
       "      <th>total sulfur dioxide</th>\n",
       "      <th>density</th>\n",
       "      <th>pH</th>\n",
       "      <th>sulphates</th>\n",
       "      <th>alcohol</th>\n",
       "      <th>quality</th>\n",
       "    </tr>\n",
       "  </thead>\n",
       "  <tbody>\n",
       "    <tr>\n",
       "      <th>0</th>\n",
       "      <td>7.4</td>\n",
       "      <td>0.70</td>\n",
       "      <td>0.00</td>\n",
       "      <td>1.9</td>\n",
       "      <td>0.076</td>\n",
       "      <td>11.0</td>\n",
       "      <td>34.0</td>\n",
       "      <td>0.9978</td>\n",
       "      <td>3.51</td>\n",
       "      <td>0.56</td>\n",
       "      <td>9.4</td>\n",
       "      <td>5</td>\n",
       "    </tr>\n",
       "    <tr>\n",
       "      <th>1</th>\n",
       "      <td>7.8</td>\n",
       "      <td>0.88</td>\n",
       "      <td>0.00</td>\n",
       "      <td>2.6</td>\n",
       "      <td>0.098</td>\n",
       "      <td>25.0</td>\n",
       "      <td>67.0</td>\n",
       "      <td>0.9968</td>\n",
       "      <td>3.20</td>\n",
       "      <td>0.68</td>\n",
       "      <td>9.8</td>\n",
       "      <td>5</td>\n",
       "    </tr>\n",
       "    <tr>\n",
       "      <th>2</th>\n",
       "      <td>7.8</td>\n",
       "      <td>0.76</td>\n",
       "      <td>0.04</td>\n",
       "      <td>2.3</td>\n",
       "      <td>0.092</td>\n",
       "      <td>15.0</td>\n",
       "      <td>54.0</td>\n",
       "      <td>0.9970</td>\n",
       "      <td>3.26</td>\n",
       "      <td>0.65</td>\n",
       "      <td>9.8</td>\n",
       "      <td>5</td>\n",
       "    </tr>\n",
       "    <tr>\n",
       "      <th>3</th>\n",
       "      <td>11.2</td>\n",
       "      <td>0.28</td>\n",
       "      <td>0.56</td>\n",
       "      <td>1.9</td>\n",
       "      <td>0.075</td>\n",
       "      <td>17.0</td>\n",
       "      <td>60.0</td>\n",
       "      <td>0.9980</td>\n",
       "      <td>3.16</td>\n",
       "      <td>0.58</td>\n",
       "      <td>9.8</td>\n",
       "      <td>6</td>\n",
       "    </tr>\n",
       "    <tr>\n",
       "      <th>4</th>\n",
       "      <td>7.4</td>\n",
       "      <td>0.70</td>\n",
       "      <td>0.00</td>\n",
       "      <td>1.9</td>\n",
       "      <td>0.076</td>\n",
       "      <td>11.0</td>\n",
       "      <td>34.0</td>\n",
       "      <td>0.9978</td>\n",
       "      <td>3.51</td>\n",
       "      <td>0.56</td>\n",
       "      <td>9.4</td>\n",
       "      <td>5</td>\n",
       "    </tr>\n",
       "  </tbody>\n",
       "</table>\n",
       "</div>"
      ],
      "text/plain": [
       "   fixed acidity  volatile acidity  citric acid  residual sugar  chlorides  \\\n",
       "0            7.4              0.70         0.00             1.9      0.076   \n",
       "1            7.8              0.88         0.00             2.6      0.098   \n",
       "2            7.8              0.76         0.04             2.3      0.092   \n",
       "3           11.2              0.28         0.56             1.9      0.075   \n",
       "4            7.4              0.70         0.00             1.9      0.076   \n",
       "\n",
       "   free sulfur dioxide  total sulfur dioxide  density    pH  sulphates  \\\n",
       "0                 11.0                  34.0   0.9978  3.51       0.56   \n",
       "1                 25.0                  67.0   0.9968  3.20       0.68   \n",
       "2                 15.0                  54.0   0.9970  3.26       0.65   \n",
       "3                 17.0                  60.0   0.9980  3.16       0.58   \n",
       "4                 11.0                  34.0   0.9978  3.51       0.56   \n",
       "\n",
       "   alcohol  quality  \n",
       "0      9.4        5  \n",
       "1      9.8        5  \n",
       "2      9.8        5  \n",
       "3      9.8        6  \n",
       "4      9.4        5  "
      ]
     },
     "execution_count": 40,
     "metadata": {},
     "output_type": "execute_result"
    }
   ],
   "source": [
    "df_initial.head()"
   ]
  },
  {
   "cell_type": "code",
   "execution_count": 41,
   "id": "840eed6e-2bda-417d-9d97-d10c53a97e61",
   "metadata": {},
   "outputs": [
    {
     "data": {
      "text/plain": [
       "(1599, 12)"
      ]
     },
     "execution_count": 41,
     "metadata": {},
     "output_type": "execute_result"
    }
   ],
   "source": [
    "df_initial.shape"
   ]
  },
  {
   "cell_type": "code",
   "execution_count": 42,
   "id": "3dd695d7-6399-48cf-a4dc-3838ad9f21bd",
   "metadata": {},
   "outputs": [
    {
     "data": {
      "text/html": [
       "<div>\n",
       "<style scoped>\n",
       "    .dataframe tbody tr th:only-of-type {\n",
       "        vertical-align: middle;\n",
       "    }\n",
       "\n",
       "    .dataframe tbody tr th {\n",
       "        vertical-align: top;\n",
       "    }\n",
       "\n",
       "    .dataframe thead th {\n",
       "        text-align: right;\n",
       "    }\n",
       "</style>\n",
       "<table border=\"1\" class=\"dataframe\">\n",
       "  <thead>\n",
       "    <tr style=\"text-align: right;\">\n",
       "      <th></th>\n",
       "      <th>fixed acidity</th>\n",
       "      <th>volatile acidity</th>\n",
       "      <th>citric acid</th>\n",
       "      <th>residual sugar</th>\n",
       "      <th>chlorides</th>\n",
       "      <th>free sulfur dioxide</th>\n",
       "      <th>total sulfur dioxide</th>\n",
       "      <th>density</th>\n",
       "      <th>pH</th>\n",
       "      <th>sulphates</th>\n",
       "      <th>alcohol</th>\n",
       "      <th>quality</th>\n",
       "    </tr>\n",
       "  </thead>\n",
       "  <tbody>\n",
       "    <tr>\n",
       "      <th>count</th>\n",
       "      <td>1599.000000</td>\n",
       "      <td>1599.000000</td>\n",
       "      <td>1599.000000</td>\n",
       "      <td>1599.000000</td>\n",
       "      <td>1599.000000</td>\n",
       "      <td>1599.000000</td>\n",
       "      <td>1599.000000</td>\n",
       "      <td>1599.000000</td>\n",
       "      <td>1599.000000</td>\n",
       "      <td>1599.000000</td>\n",
       "      <td>1599.000000</td>\n",
       "      <td>1599.000000</td>\n",
       "    </tr>\n",
       "    <tr>\n",
       "      <th>mean</th>\n",
       "      <td>8.319637</td>\n",
       "      <td>0.527821</td>\n",
       "      <td>0.270976</td>\n",
       "      <td>2.538806</td>\n",
       "      <td>0.087467</td>\n",
       "      <td>15.874922</td>\n",
       "      <td>46.467792</td>\n",
       "      <td>0.996747</td>\n",
       "      <td>3.311113</td>\n",
       "      <td>0.658149</td>\n",
       "      <td>10.422983</td>\n",
       "      <td>5.636023</td>\n",
       "    </tr>\n",
       "    <tr>\n",
       "      <th>std</th>\n",
       "      <td>1.741096</td>\n",
       "      <td>0.179060</td>\n",
       "      <td>0.194801</td>\n",
       "      <td>1.409928</td>\n",
       "      <td>0.047065</td>\n",
       "      <td>10.460157</td>\n",
       "      <td>32.895324</td>\n",
       "      <td>0.001887</td>\n",
       "      <td>0.154386</td>\n",
       "      <td>0.169507</td>\n",
       "      <td>1.065668</td>\n",
       "      <td>0.807569</td>\n",
       "    </tr>\n",
       "    <tr>\n",
       "      <th>min</th>\n",
       "      <td>4.600000</td>\n",
       "      <td>0.120000</td>\n",
       "      <td>0.000000</td>\n",
       "      <td>0.900000</td>\n",
       "      <td>0.012000</td>\n",
       "      <td>1.000000</td>\n",
       "      <td>6.000000</td>\n",
       "      <td>0.990070</td>\n",
       "      <td>2.740000</td>\n",
       "      <td>0.330000</td>\n",
       "      <td>8.400000</td>\n",
       "      <td>3.000000</td>\n",
       "    </tr>\n",
       "    <tr>\n",
       "      <th>25%</th>\n",
       "      <td>7.100000</td>\n",
       "      <td>0.390000</td>\n",
       "      <td>0.090000</td>\n",
       "      <td>1.900000</td>\n",
       "      <td>0.070000</td>\n",
       "      <td>7.000000</td>\n",
       "      <td>22.000000</td>\n",
       "      <td>0.995600</td>\n",
       "      <td>3.210000</td>\n",
       "      <td>0.550000</td>\n",
       "      <td>9.500000</td>\n",
       "      <td>5.000000</td>\n",
       "    </tr>\n",
       "    <tr>\n",
       "      <th>50%</th>\n",
       "      <td>7.900000</td>\n",
       "      <td>0.520000</td>\n",
       "      <td>0.260000</td>\n",
       "      <td>2.200000</td>\n",
       "      <td>0.079000</td>\n",
       "      <td>14.000000</td>\n",
       "      <td>38.000000</td>\n",
       "      <td>0.996750</td>\n",
       "      <td>3.310000</td>\n",
       "      <td>0.620000</td>\n",
       "      <td>10.200000</td>\n",
       "      <td>6.000000</td>\n",
       "    </tr>\n",
       "    <tr>\n",
       "      <th>75%</th>\n",
       "      <td>9.200000</td>\n",
       "      <td>0.640000</td>\n",
       "      <td>0.420000</td>\n",
       "      <td>2.600000</td>\n",
       "      <td>0.090000</td>\n",
       "      <td>21.000000</td>\n",
       "      <td>62.000000</td>\n",
       "      <td>0.997835</td>\n",
       "      <td>3.400000</td>\n",
       "      <td>0.730000</td>\n",
       "      <td>11.100000</td>\n",
       "      <td>6.000000</td>\n",
       "    </tr>\n",
       "    <tr>\n",
       "      <th>max</th>\n",
       "      <td>15.900000</td>\n",
       "      <td>1.580000</td>\n",
       "      <td>1.000000</td>\n",
       "      <td>15.500000</td>\n",
       "      <td>0.611000</td>\n",
       "      <td>72.000000</td>\n",
       "      <td>289.000000</td>\n",
       "      <td>1.003690</td>\n",
       "      <td>4.010000</td>\n",
       "      <td>2.000000</td>\n",
       "      <td>14.900000</td>\n",
       "      <td>8.000000</td>\n",
       "    </tr>\n",
       "  </tbody>\n",
       "</table>\n",
       "</div>"
      ],
      "text/plain": [
       "       fixed acidity  volatile acidity  citric acid  residual sugar  \\\n",
       "count    1599.000000       1599.000000  1599.000000     1599.000000   \n",
       "mean        8.319637          0.527821     0.270976        2.538806   \n",
       "std         1.741096          0.179060     0.194801        1.409928   \n",
       "min         4.600000          0.120000     0.000000        0.900000   \n",
       "25%         7.100000          0.390000     0.090000        1.900000   \n",
       "50%         7.900000          0.520000     0.260000        2.200000   \n",
       "75%         9.200000          0.640000     0.420000        2.600000   \n",
       "max        15.900000          1.580000     1.000000       15.500000   \n",
       "\n",
       "         chlorides  free sulfur dioxide  total sulfur dioxide      density  \\\n",
       "count  1599.000000          1599.000000           1599.000000  1599.000000   \n",
       "mean      0.087467            15.874922             46.467792     0.996747   \n",
       "std       0.047065            10.460157             32.895324     0.001887   \n",
       "min       0.012000             1.000000              6.000000     0.990070   \n",
       "25%       0.070000             7.000000             22.000000     0.995600   \n",
       "50%       0.079000            14.000000             38.000000     0.996750   \n",
       "75%       0.090000            21.000000             62.000000     0.997835   \n",
       "max       0.611000            72.000000            289.000000     1.003690   \n",
       "\n",
       "                pH    sulphates      alcohol      quality  \n",
       "count  1599.000000  1599.000000  1599.000000  1599.000000  \n",
       "mean      3.311113     0.658149    10.422983     5.636023  \n",
       "std       0.154386     0.169507     1.065668     0.807569  \n",
       "min       2.740000     0.330000     8.400000     3.000000  \n",
       "25%       3.210000     0.550000     9.500000     5.000000  \n",
       "50%       3.310000     0.620000    10.200000     6.000000  \n",
       "75%       3.400000     0.730000    11.100000     6.000000  \n",
       "max       4.010000     2.000000    14.900000     8.000000  "
      ]
     },
     "metadata": {},
     "output_type": "display_data"
    }
   ],
   "source": [
    "display(df_initial.describe())"
   ]
  },
  {
   "cell_type": "code",
   "execution_count": 43,
   "id": "ea8f17dd-2de0-4028-a2f6-d60b012a1053",
   "metadata": {},
   "outputs": [
    {
     "data": {
      "text/plain": [
       "fixed acidity           0\n",
       "volatile acidity        0\n",
       "citric acid             0\n",
       "residual sugar          0\n",
       "chlorides               0\n",
       "free sulfur dioxide     0\n",
       "total sulfur dioxide    0\n",
       "density                 0\n",
       "pH                      0\n",
       "sulphates               0\n",
       "alcohol                 0\n",
       "quality                 0\n",
       "dtype: int64"
      ]
     },
     "execution_count": 43,
     "metadata": {},
     "output_type": "execute_result"
    }
   ],
   "source": [
    "#Check for Null values\n",
    "df_initial.isnull().sum(axis = 0)"
   ]
  },
  {
   "cell_type": "code",
   "execution_count": 44,
   "id": "4153b9a4-9ac2-4edc-99d9-0fe77d62ea9b",
   "metadata": {},
   "outputs": [
    {
     "name": "stdout",
     "output_type": "stream",
     "text": [
      "240\n"
     ]
    }
   ],
   "source": [
    "#Check for duplicate values\n",
    "print(df_initial.duplicated().sum())"
   ]
  },
  {
   "cell_type": "code",
   "execution_count": 45,
   "id": "04ead206-fe73-4207-ad98-8ec2e6fa5c86",
   "metadata": {},
   "outputs": [
    {
     "name": "stderr",
     "output_type": "stream",
     "text": [
      "/usr/lib/python3/dist-packages/matplotlib/cbook/__init__.py:1402: FutureWarning: Support for multi-dimensional indexing (e.g. `obj[:, None]`) is deprecated and will be removed in a future version.  Convert to a numpy array before indexing instead.\n",
      "  ndim = x[:, None].ndim\n",
      "/usr/lib/python3/dist-packages/matplotlib/axes/_base.py:276: FutureWarning: Support for multi-dimensional indexing (e.g. `obj[:, None]`) is deprecated and will be removed in a future version.  Convert to a numpy array before indexing instead.\n",
      "  x = x[:, np.newaxis]\n",
      "/usr/lib/python3/dist-packages/matplotlib/axes/_base.py:278: FutureWarning: Support for multi-dimensional indexing (e.g. `obj[:, None]`) is deprecated and will be removed in a future version.  Convert to a numpy array before indexing instead.\n",
      "  y = y[:, np.newaxis]\n"
     ]
    },
    {
     "data": {
      "text/plain": [
       "[Text(0.5, 1.0, 'target quality')]"
      ]
     },
     "execution_count": 45,
     "metadata": {},
     "output_type": "execute_result"
    },
    {
     "data": {
      "image/png": "[encoded data removed]",
      "text/plain": [
       "<Figure size 432x288 with 1 Axes>"
      ]
     },
     "metadata": {
      "needs_background": "light"
     },
     "output_type": "display_data"
    }
   ],
   "source": [
    "#Medium Quality wines are much more i.e concentrated on 5 and 6\n",
    "#Due to high concentration of values on  5 and 6 We will divide the dataset into bad quality (<=5) and good quality(>=6) for our prediction\n",
    "sns.histplot(data=df_initial, x=\"quality\", kde=True, color='blue').set(title=\"target quality\")"
   ]
  },
  {
   "cell_type": "code",
   "execution_count": 46,
   "id": "e4805b72-2bb0-4bd0-b72d-7c3446b5bef7",
   "metadata": {},
   "outputs": [],
   "source": [
    "#Outlier detection using box plot\n",
    "def find_outliers(df, features, alpha=0.05):\n",
    "    for feature in features:\n",
    "        fig, ax = plt.subplots(figsize=(16,3))\n",
    "        sns.boxplot(data=df, x=feature)\n",
    "        plt.show()"
   ]
  },
  {
   "cell_type": "code",
   "execution_count": 47,
   "id": "7b33860d-3ebc-4eaa-b77a-3de42dc7ea8f",
   "metadata": {},
   "outputs": [
    {
     "data": {
      "image/png": "[encoded data removed]",
      "text/plain": [
       "<Figure size 1152x216 with 1 Axes>"
      ]
     },
     "metadata": {
      "needs_background": "light"
     },
     "output_type": "display_data"
    },
    {
     "data": {
      "image/png": "[encoded data removed]",
      "text/plain": [
       "<Figure size 1152x216 with 1 Axes>"
      ]
     },
     "metadata": {
      "needs_background": "light"
     },
     "output_type": "display_data"
    },
    {
     "data": {
      "image/png": "[encoded data removed]",
      "text/plain": [
       "<Figure size 1152x216 with 1 Axes>"
      ]
     },
     "metadata": {
      "needs_background": "light"
     },
     "output_type": "display_data"
    },
    {
     "data": {
      "image/png": "[encoded data removed]",
      "text/plain": [
       "<Figure size 1152x216 with 1 Axes>"
      ]
     },
     "metadata": {
      "needs_background": "light"
     },
     "output_type": "display_data"
    },
    {
     "data": {
      "image/png": "[encoded data removed]",
      "text/plain": [
       "<Figure size 1152x216 with 1 Axes>"
      ]
     },
     "metadata": {
      "needs_background": "light"
     },
     "output_type": "display_data"
    },
    {
     "data": {
      "image/png": "[encoded data removed]",
      "text/plain": [
       "<Figure size 1152x216 with 1 Axes>"
      ]
     },
     "metadata": {
      "needs_background": "light"
     },
     "output_type": "display_data"
    },
    {
     "data": {
      "image/png": "[encoded data removed]",
      "text/plain": [
       "<Figure size 1152x216 with 1 Axes>"
      ]
     },
     "metadata": {
      "needs_background": "light"
     },
     "output_type": "display_data"
    },
    {
     "data": {
      "image/png": "[encoded data removed]",
      "text/plain": [
       "<Figure size 1152x216 with 1 Axes>"
      ]
     },
     "metadata": {
      "needs_background": "light"
     },
     "output_type": "display_data"
    },
    {
     "data": {
      "image/png": "[encoded data removed]",
      "text/plain": [
       "<Figure size 1152x216 with 1 Axes>"
      ]
     },
     "metadata": {
      "needs_background": "light"
     },
     "output_type": "display_data"
    },
    {
     "data": {
      "image/png": "[encoded data removed]",
      "text/plain": [
       "<Figure size 1152x216 with 1 Axes>"
      ]
     },
     "metadata": {
      "needs_background": "light"
     },
     "output_type": "display_data"
    },
    {
     "data": {
      "image/png": "[encoded data removed]",
      "text/plain": [
       "<Figure size 1152x216 with 1 Axes>"
      ]
     },
     "metadata": {
      "needs_background": "light"
     },
     "output_type": "display_data"
    }
   ],
   "source": [
    "#Feature variables\n",
    "features = ['fixed acidity', 'volatile acidity', 'citric acid', \n",
    "            'residual sugar', 'chlorides', 'free sulfur dioxide', \n",
    "            'total sulfur dioxide', 'density', 'pH', \n",
    "            'sulphates', 'alcohol']\n",
    "\n",
    "#Target variable\n",
    "target = 'quality'\n",
    "\n",
    "find_outliers(df_initial, features)\n",
    "#The following figure shows every feature has outliers"
   ]
  },
  {
   "cell_type": "code",
   "execution_count": 48,
   "id": "2e6e3ece-5370-446e-9c02-68c3136c472c",
   "metadata": {},
   "outputs": [
    {
     "data": {
      "image/png": "[encoded data removed]",
      "text/plain": [
       "<Figure size 1152x216 with 2 Axes>"
      ]
     },
     "metadata": {
      "needs_background": "light"
     },
     "output_type": "display_data"
    }
   ],
   "source": [
    "#Finding impact of each feature on quality\n",
    "def features_impact(df, target):\n",
    "    fig, ax = plt.subplots(figsize=(16,3))\n",
    "    # HeatMap\n",
    "    data = df.corr().loc[[target],:].drop(target, axis=1)\n",
    "    sns.heatmap(data=data, cmap='cividis', annot=True, ax=ax)\n",
    "    ax.set_title(f' Correlation : {target}', fontsize=14)\n",
    "    ax.set_xlabel(f'Features')\n",
    "    ax.tick_params(axis='x', labelrotation=45)\n",
    "    plt.show()\n",
    "\n",
    "features_impact(df_initial,target)\n",
    "#alcohol->stringest positive correlation i.e.\n",
    "#more alcohol more is the quality\n",
    "#volatile acidity->strongest negative correlation i.e.\n",
    "#the less the volatile acidity the more is the quality"
   ]
  },
  {
   "cell_type": "code",
   "execution_count": 49,
   "id": "b2013dc3-e54d-4939-a13c-dca15235e61f",
   "metadata": {},
   "outputs": [],
   "source": [
    "from sklearn import metrics\n",
    "from sklearn.linear_model import LogisticRegression\n",
    "from sklearn.model_selection import train_test_split\n",
    "from sklearn.tree import DecisionTreeClassifier\n",
    "from sklearn.ensemble import RandomForestClassifier\n",
    "from xgboost import XGBClassifier\n",
    "from sklearn.metrics import accuracy_score"
   ]
  },
  {
   "cell_type": "code",
   "execution_count": 50,
   "id": "ed092e8f-e2b1-4464-acab-6ac8f22f1835",
   "metadata": {},
   "outputs": [
    {
     "name": "stdout",
     "output_type": "stream",
     "text": [
      "Logistic Regression Accuracy: 74.06%\n"
     ]
    }
   ],
   "source": [
    "def logistic_regression(df, features, target):\n",
    "    \n",
    "    X = df[features]\n",
    "    y = np.vectorize(lambda y: 0 if y <= 5 else 1)(df[target])\n",
    "\n",
    "    X_train, X_test, y_train, y_test = train_test_split(X, y, test_size=0.2, random_state=42)\n",
    "\n",
    "    model = LogisticRegression(max_iter=1000)\n",
    "    model.fit(X_train, y_train)\n",
    "\n",
    "    y_pred = model.predict(X_test)\n",
    "    y_score = model.decision_function(X_test)\n",
    "    \n",
    "    accuracy = metrics.accuracy_score(y_test, y_pred)\n",
    "\n",
    "    print(\"Logistic Regression Accuracy: {:.2f}%\".format(accuracy*100))\n",
    "        \n",
    "\n",
    "logistic_regression(df_initial, features, target)"
   ]
  },
  {
   "cell_type": "code",
   "execution_count": 51,
   "id": "642a4e18-d99c-4548-ab7b-ed881d917423",
   "metadata": {},
   "outputs": [
    {
     "name": "stdout",
     "output_type": "stream",
     "text": [
      "Decision Tree Accuracy: 73.44%\n"
     ]
    }
   ],
   "source": [
    "def decision_tree(df, features, target):\n",
    "    X = df[features]\n",
    "    y = np.vectorize(lambda y: 0 if y <= 5 else 1)(df[target])\n",
    "\n",
    "    X_train, X_test, y_train, y_test = train_test_split(X, y, test_size=0.2, random_state=42)\n",
    "\n",
    "    scoresDT = []\n",
    "    for i in range(2,21):\n",
    "        DTclassifier = DecisionTreeClassifier(max_leaf_nodes=i)\n",
    "        DTclassifier.fit(X_train, y_train)\n",
    "        scoresDT.append(DTclassifier.score(X_test, y_test))\n",
    "    \n",
    "    accDTscore = max(scoresDT)\n",
    "    print(\"Decision Tree Accuracy: {:.2f}%\".format(accDTscore*100))\n",
    "\n",
    "decision_tree(df_initial, features, target)"
   ]
  },
  {
   "cell_type": "code",
   "execution_count": 52,
   "id": "255ca4b7-7322-46a8-a8c8-b23d09258178",
   "metadata": {},
   "outputs": [
    {
     "name": "stdout",
     "output_type": "stream",
     "text": [
      "XG Boost Accuracy: 80.00%\n"
     ]
    }
   ],
   "source": [
    "def xg_Boost(df, features, target):\n",
    "    X = df[features]\n",
    "    y = np.vectorize(lambda y: 0 if y <= 5 else 1)(df[target])\n",
    "\n",
    "    X_train, X_test, y_train, y_test = train_test_split(X, y, test_size=0.2, random_state=42)\n",
    "\n",
    "    model = XGBClassifier(eval_metric='mlogloss')\n",
    "    model.fit(X_train, y_train)\n",
    "    y_pred = model.predict(X_test)\n",
    "    predictions = [round(value) for value in y_pred]\n",
    "    accuracy = accuracy_score(y_test, predictions)\n",
    "    print(\"XG Boost Accuracy: %.2f%%\" % (accuracy * 100.0))\n",
    "\n",
    "xg_Boost(df_initial, features, target)"
   ]
  },
  {
   "cell_type": "code",
   "execution_count": 53,
   "id": "0ae2b14c-e016-48e1-8d86-9d05f8ca531d",
   "metadata": {},
   "outputs": [],
   "source": [
    "#Original Model -> \n",
    "#Logistic Regression Accuracy: 74.06%\n",
    "#Decision Tree Accuracy: 73.44%\n",
    "#XG Boost Accuracy: 80.00%"
   ]
  },
  {
   "cell_type": "code",
   "execution_count": 54,
   "id": "d64e763e-a758-4b77-b614-f0695bcab0a5",
   "metadata": {},
   "outputs": [],
   "source": [
    "dataset=df_initial.copy(deep=True)"
   ]
  },
  {
   "cell_type": "code",
   "execution_count": 55,
   "id": "39623978-0b96-44c4-8779-512e7f94baa5",
   "metadata": {},
   "outputs": [],
   "source": [
    "#Handling outliers using Quantile based flooring and capping\n",
    "\n",
    "def outliers_to_mode(df):\n",
    "    for col in df.columns:\n",
    "        if (df[col].dtype != 'object'): # data needs to be non-categorical\n",
    "            tmp = df[col]\n",
    "            q1 = tmp.quantile(.05)\n",
    "            q3 = tmp.quantile(.95)\n",
    "            df.loc[tmp < q1, col] = tmp.mode()[0]\n",
    "            df.loc[tmp > q3, col] = tmp.mode()[0]\n",
    "    return df"
   ]
  },
  {
   "cell_type": "code",
   "execution_count": 56,
   "id": "f2dee976-c2be-4c3d-ab52-5921230169ec",
   "metadata": {},
   "outputs": [],
   "source": [
    "dataset = outliers_to_mode(dataset)"
   ]
  },
  {
   "cell_type": "code",
   "execution_count": 57,
   "id": "88431cd5-deae-447d-b213-818151049065",
   "metadata": {},
   "outputs": [
    {
     "data": {
      "text/html": [
       "<div>\n",
       "<style scoped>\n",
       "    .dataframe tbody tr th:only-of-type {\n",
       "        vertical-align: middle;\n",
       "    }\n",
       "\n",
       "    .dataframe tbody tr th {\n",
       "        vertical-align: top;\n",
       "    }\n",
       "\n",
       "    .dataframe thead th {\n",
       "        text-align: right;\n",
       "    }\n",
       "</style>\n",
       "<table border=\"1\" class=\"dataframe\">\n",
       "  <thead>\n",
       "    <tr style=\"text-align: right;\">\n",
       "      <th></th>\n",
       "      <th>fixed acidity</th>\n",
       "      <th>volatile acidity</th>\n",
       "      <th>citric acid</th>\n",
       "      <th>residual sugar</th>\n",
       "      <th>chlorides</th>\n",
       "      <th>free sulfur dioxide</th>\n",
       "      <th>total sulfur dioxide</th>\n",
       "      <th>density</th>\n",
       "      <th>pH</th>\n",
       "      <th>sulphates</th>\n",
       "      <th>alcohol</th>\n",
       "      <th>quality</th>\n",
       "    </tr>\n",
       "  </thead>\n",
       "  <tbody>\n",
       "    <tr>\n",
       "      <th>0</th>\n",
       "      <td>7.4</td>\n",
       "      <td>0.70</td>\n",
       "      <td>0.00</td>\n",
       "      <td>1.9</td>\n",
       "      <td>0.076</td>\n",
       "      <td>11.0</td>\n",
       "      <td>34.0</td>\n",
       "      <td>0.9978</td>\n",
       "      <td>3.51</td>\n",
       "      <td>0.56</td>\n",
       "      <td>9.4</td>\n",
       "      <td>5</td>\n",
       "    </tr>\n",
       "    <tr>\n",
       "      <th>1</th>\n",
       "      <td>7.8</td>\n",
       "      <td>0.60</td>\n",
       "      <td>0.00</td>\n",
       "      <td>2.6</td>\n",
       "      <td>0.098</td>\n",
       "      <td>25.0</td>\n",
       "      <td>67.0</td>\n",
       "      <td>0.9968</td>\n",
       "      <td>3.20</td>\n",
       "      <td>0.68</td>\n",
       "      <td>9.8</td>\n",
       "      <td>5</td>\n",
       "    </tr>\n",
       "    <tr>\n",
       "      <th>2</th>\n",
       "      <td>7.8</td>\n",
       "      <td>0.76</td>\n",
       "      <td>0.04</td>\n",
       "      <td>2.3</td>\n",
       "      <td>0.092</td>\n",
       "      <td>15.0</td>\n",
       "      <td>54.0</td>\n",
       "      <td>0.9970</td>\n",
       "      <td>3.26</td>\n",
       "      <td>0.65</td>\n",
       "      <td>9.8</td>\n",
       "      <td>5</td>\n",
       "    </tr>\n",
       "    <tr>\n",
       "      <th>3</th>\n",
       "      <td>11.2</td>\n",
       "      <td>0.28</td>\n",
       "      <td>0.56</td>\n",
       "      <td>1.9</td>\n",
       "      <td>0.075</td>\n",
       "      <td>17.0</td>\n",
       "      <td>60.0</td>\n",
       "      <td>0.9980</td>\n",
       "      <td>3.16</td>\n",
       "      <td>0.58</td>\n",
       "      <td>9.8</td>\n",
       "      <td>6</td>\n",
       "    </tr>\n",
       "    <tr>\n",
       "      <th>4</th>\n",
       "      <td>7.4</td>\n",
       "      <td>0.70</td>\n",
       "      <td>0.00</td>\n",
       "      <td>1.9</td>\n",
       "      <td>0.076</td>\n",
       "      <td>11.0</td>\n",
       "      <td>34.0</td>\n",
       "      <td>0.9978</td>\n",
       "      <td>3.51</td>\n",
       "      <td>0.56</td>\n",
       "      <td>9.4</td>\n",
       "      <td>5</td>\n",
       "    </tr>\n",
       "  </tbody>\n",
       "</table>\n",
       "</div>"
      ],
      "text/plain": [
       "   fixed acidity  volatile acidity  citric acid  residual sugar  chlorides  \\\n",
       "0            7.4              0.70         0.00             1.9      0.076   \n",
       "1            7.8              0.60         0.00             2.6      0.098   \n",
       "2            7.8              0.76         0.04             2.3      0.092   \n",
       "3           11.2              0.28         0.56             1.9      0.075   \n",
       "4            7.4              0.70         0.00             1.9      0.076   \n",
       "\n",
       "   free sulfur dioxide  total sulfur dioxide  density    pH  sulphates  \\\n",
       "0                 11.0                  34.0   0.9978  3.51       0.56   \n",
       "1                 25.0                  67.0   0.9968  3.20       0.68   \n",
       "2                 15.0                  54.0   0.9970  3.26       0.65   \n",
       "3                 17.0                  60.0   0.9980  3.16       0.58   \n",
       "4                 11.0                  34.0   0.9978  3.51       0.56   \n",
       "\n",
       "   alcohol  quality  \n",
       "0      9.4        5  \n",
       "1      9.8        5  \n",
       "2      9.8        5  \n",
       "3      9.8        6  \n",
       "4      9.4        5  "
      ]
     },
     "execution_count": 57,
     "metadata": {},
     "output_type": "execute_result"
    }
   ],
   "source": [
    "dataset.head()"
   ]
  },
  {
   "cell_type": "code",
   "execution_count": 58,
   "id": "0f1fdc42-3407-4fbf-8bb0-9c7eb1e8c1fc",
   "metadata": {},
   "outputs": [
    {
     "data": {
      "image/png": "[encoded data removed]",
      "text/plain": [
       "<Figure size 1152x216 with 1 Axes>"
      ]
     },
     "metadata": {
      "needs_background": "light"
     },
     "output_type": "display_data"
    },
    {
     "data": {
      "image/png": "[encoded data removed]",
      "text/plain": [
       "<Figure size 1152x216 with 1 Axes>"
      ]
     },
     "metadata": {
      "needs_background": "light"
     },
     "output_type": "display_data"
    },
    {
     "data": {
      "image/png": "[encoded data removed]",
      "text/plain": [
       "<Figure size 1152x216 with 1 Axes>"
      ]
     },
     "metadata": {
      "needs_background": "light"
     },
     "output_type": "display_data"
    },
    {
     "data": {
      "image/png": "[encoded data removed]",
      "text/plain": [
       "<Figure size 1152x216 with 1 Axes>"
      ]
     },
     "metadata": {
      "needs_background": "light"
     },
     "output_type": "display_data"
    },
    {
     "data": {
      "image/png": "[encoded data removed]",
      "text/plain": [
       "<Figure size 1152x216 with 1 Axes>"
      ]
     },
     "metadata": {
      "needs_background": "light"
     },
     "output_type": "display_data"
    },
    {
     "data": {
      "image/png": "[encoded data removed]",
      "text/plain": [
       "<Figure size 1152x216 with 1 Axes>"
      ]
     },
     "metadata": {
      "needs_background": "light"
     },
     "output_type": "display_data"
    },
    {
     "data": {
      "image/png": "[encoded data removed]",
      "text/plain": [
       "<Figure size 1152x216 with 1 Axes>"
      ]
     },
     "metadata": {
      "needs_background": "light"
     },
     "output_type": "display_data"
    },
    {
     "data": {
      "image/png": "[encoded data removed]",
      "text/plain": [
       "<Figure size 1152x216 with 1 Axes>"
      ]
     },
     "metadata": {
      "needs_background": "light"
     },
     "output_type": "display_data"
    },
    {
     "data": {
      "image/png": "[encoded data removed]",
      "text/plain": [
       "<Figure size 1152x216 with 1 Axes>"
      ]
     },
     "metadata": {
      "needs_background": "light"
     },
     "output_type": "display_data"
    },
    {
     "data": {
      "image/png": "[encoded data removed]",
      "text/plain": [
       "<Figure size 1152x216 with 1 Axes>"
      ]
     },
     "metadata": {
      "needs_background": "light"
     },
     "output_type": "display_data"
    },
    {
     "data": {
      "image/png": "[encoded data removed]",
      "text/plain": [
       "<Figure size 1152x216 with 1 Axes>"
      ]
     },
     "metadata": {
      "needs_background": "light"
     },
     "output_type": "display_data"
    }
   ],
   "source": [
    "find_outliers(dataset, features)"
   ]
  },
  {
   "cell_type": "code",
   "execution_count": 59,
   "id": "e9937451-c850-42ee-aa48-fe9030ab1a08",
   "metadata": {},
   "outputs": [
    {
     "data": {
      "image/png": "[encoded data removed]",
      "text/plain": [
       "<Figure size 1152x216 with 2 Axes>"
      ]
     },
     "metadata": {
      "needs_background": "light"
     },
     "output_type": "display_data"
    }
   ],
   "source": [
    "features_impact(dataset,target)"
   ]
  },
  {
   "cell_type": "code",
   "execution_count": 60,
   "id": "9e24ca69-220b-464b-8ffe-fe00653085dc",
   "metadata": {},
   "outputs": [
    {
     "name": "stdout",
     "output_type": "stream",
     "text": [
      "Logistic Regression Accuracy: 67.81%\n"
     ]
    }
   ],
   "source": [
    "logistic_regression(dataset, features, target)"
   ]
  },
  {
   "cell_type": "code",
   "execution_count": 61,
   "id": "76cccf07-519b-45d7-bcf5-1b8ff4127d6a",
   "metadata": {},
   "outputs": [
    {
     "name": "stdout",
     "output_type": "stream",
     "text": [
      "Decision Tree Accuracy: 66.25%\n"
     ]
    }
   ],
   "source": [
    "decision_tree(dataset, features, target)"
   ]
  },
  {
   "cell_type": "code",
   "execution_count": 62,
   "id": "6434526b-f55b-4d67-b86a-0538ce8c5a9f",
   "metadata": {},
   "outputs": [
    {
     "name": "stdout",
     "output_type": "stream",
     "text": [
      "XG Boost Accuracy: 76.56%\n"
     ]
    }
   ],
   "source": [
    "xg_Boost(dataset, features, target)"
   ]
  },
  {
   "cell_type": "code",
   "execution_count": 64,
   "id": "8908c4c2-05d6-49b8-aaeb-362c595c5efe",
   "metadata": {},
   "outputs": [],
   "source": [
    "#Original Model -> \n",
    "#Logistic Regression Accuracy: 74.06%\n",
    "#Decision Tree Accuracy: 73.44%\n",
    "#XG Boost Accuracy: 80.00%\n",
    "\n",
    "#Outlier Handling Model ->\n",
    "#Logistic Regression Accuracy: 67.81%\n",
    "#Decision Tree Accuracy: 66.25%\n",
    "#XG Boost Accuracy: 76.56%"
   ]
  },
  {
   "cell_type": "markdown",
   "id": "0d07212d-5ef8-4190-8743-f24c24936d74",
   "metadata": {},
   "source": [
    "Handling Outliers decreases our accuracy sharply hence it sugests that it creates more imbalance and hence handling them isn't such a good idea"
   ]
  },
  {
   "cell_type": "code",
   "execution_count": 65,
   "id": "559f6a70-1f80-4e3b-805e-c607c814db98",
   "metadata": {},
   "outputs": [],
   "source": [
    "#Dropping some features having another feature with same correlation with quality"
   ]
  },
  {
   "cell_type": "code",
   "execution_count": 66,
   "id": "f505359c-260c-4bbe-87cb-1dc42a59eb54",
   "metadata": {},
   "outputs": [
    {
     "data": {
      "text/html": [
       "<div>\n",
       "<style scoped>\n",
       "    .dataframe tbody tr th:only-of-type {\n",
       "        vertical-align: middle;\n",
       "    }\n",
       "\n",
       "    .dataframe tbody tr th {\n",
       "        vertical-align: top;\n",
       "    }\n",
       "\n",
       "    .dataframe thead th {\n",
       "        text-align: right;\n",
       "    }\n",
       "</style>\n",
       "<table border=\"1\" class=\"dataframe\">\n",
       "  <thead>\n",
       "    <tr style=\"text-align: right;\">\n",
       "      <th></th>\n",
       "      <th>fixed acidity</th>\n",
       "      <th>volatile acidity</th>\n",
       "      <th>citric acid</th>\n",
       "      <th>residual sugar</th>\n",
       "      <th>chlorides</th>\n",
       "      <th>free sulfur dioxide</th>\n",
       "      <th>total sulfur dioxide</th>\n",
       "      <th>alcohol</th>\n",
       "      <th>quality</th>\n",
       "    </tr>\n",
       "  </thead>\n",
       "  <tbody>\n",
       "    <tr>\n",
       "      <th>0</th>\n",
       "      <td>7.4</td>\n",
       "      <td>0.70</td>\n",
       "      <td>0.00</td>\n",
       "      <td>1.9</td>\n",
       "      <td>0.076</td>\n",
       "      <td>11.0</td>\n",
       "      <td>34.0</td>\n",
       "      <td>9.4</td>\n",
       "      <td>5</td>\n",
       "    </tr>\n",
       "    <tr>\n",
       "      <th>1</th>\n",
       "      <td>7.8</td>\n",
       "      <td>0.88</td>\n",
       "      <td>0.00</td>\n",
       "      <td>2.6</td>\n",
       "      <td>0.098</td>\n",
       "      <td>25.0</td>\n",
       "      <td>67.0</td>\n",
       "      <td>9.8</td>\n",
       "      <td>5</td>\n",
       "    </tr>\n",
       "    <tr>\n",
       "      <th>2</th>\n",
       "      <td>7.8</td>\n",
       "      <td>0.76</td>\n",
       "      <td>0.04</td>\n",
       "      <td>2.3</td>\n",
       "      <td>0.092</td>\n",
       "      <td>15.0</td>\n",
       "      <td>54.0</td>\n",
       "      <td>9.8</td>\n",
       "      <td>5</td>\n",
       "    </tr>\n",
       "    <tr>\n",
       "      <th>3</th>\n",
       "      <td>11.2</td>\n",
       "      <td>0.28</td>\n",
       "      <td>0.56</td>\n",
       "      <td>1.9</td>\n",
       "      <td>0.075</td>\n",
       "      <td>17.0</td>\n",
       "      <td>60.0</td>\n",
       "      <td>9.8</td>\n",
       "      <td>6</td>\n",
       "    </tr>\n",
       "    <tr>\n",
       "      <th>4</th>\n",
       "      <td>7.4</td>\n",
       "      <td>0.70</td>\n",
       "      <td>0.00</td>\n",
       "      <td>1.9</td>\n",
       "      <td>0.076</td>\n",
       "      <td>11.0</td>\n",
       "      <td>34.0</td>\n",
       "      <td>9.4</td>\n",
       "      <td>5</td>\n",
       "    </tr>\n",
       "  </tbody>\n",
       "</table>\n",
       "</div>"
      ],
      "text/plain": [
       "   fixed acidity  volatile acidity  citric acid  residual sugar  chlorides  \\\n",
       "0            7.4              0.70         0.00             1.9      0.076   \n",
       "1            7.8              0.88         0.00             2.6      0.098   \n",
       "2            7.8              0.76         0.04             2.3      0.092   \n",
       "3           11.2              0.28         0.56             1.9      0.075   \n",
       "4            7.4              0.70         0.00             1.9      0.076   \n",
       "\n",
       "   free sulfur dioxide  total sulfur dioxide  alcohol  quality  \n",
       "0                 11.0                  34.0      9.4        5  \n",
       "1                 25.0                  67.0      9.8        5  \n",
       "2                 15.0                  54.0      9.8        5  \n",
       "3                 17.0                  60.0      9.8        6  \n",
       "4                 11.0                  34.0      9.4        5  "
      ]
     },
     "execution_count": 66,
     "metadata": {},
     "output_type": "execute_result"
    }
   ],
   "source": [
    "df_reduced = df_initial.drop(['density', 'pH', 'sulphates',], axis=1)\n",
    "df_reduced.head()"
   ]
  },
  {
   "cell_type": "code",
   "execution_count": 67,
   "id": "bea88b40-e328-406e-baf3-56a3cff7f53e",
   "metadata": {},
   "outputs": [],
   "source": [
    "features2 = ['fixed acidity', 'volatile acidity', 'residual sugar', \n",
    "            'chlorides', 'free sulfur dioxide','total sulfur dioxide', \n",
    "            'citric acid', 'alcohol']"
   ]
  },
  {
   "cell_type": "code",
   "execution_count": 68,
   "id": "6c767684-c38b-4b83-8d10-51ab5e74c37d",
   "metadata": {},
   "outputs": [
    {
     "name": "stdout",
     "output_type": "stream",
     "text": [
      "Logistic Regression Accuracy: 73.75%\n"
     ]
    }
   ],
   "source": [
    "logistic_regression(df_reduced, features2, target)"
   ]
  },
  {
   "cell_type": "code",
   "execution_count": 69,
   "id": "009e3525-97a0-4509-b643-b237f85e8827",
   "metadata": {},
   "outputs": [
    {
     "name": "stdout",
     "output_type": "stream",
     "text": [
      "Decision Tree Accuracy: 72.19%\n"
     ]
    }
   ],
   "source": [
    "decision_tree(df_reduced, features2, target)"
   ]
  },
  {
   "cell_type": "code",
   "execution_count": 70,
   "id": "015fa415-1079-4b72-8b03-62bad50671fa",
   "metadata": {},
   "outputs": [
    {
     "name": "stdout",
     "output_type": "stream",
     "text": [
      "XG Boost Accuracy: 80.62%\n"
     ]
    }
   ],
   "source": [
    "xg_Boost(df_reduced, features2, target)"
   ]
  },
  {
   "cell_type": "code",
   "execution_count": null,
   "id": "447abb14-e69e-4697-82db-55d3b53a6fc0",
   "metadata": {},
   "outputs": [],
   "source": [
    "#Original Model -> \n",
    "#Logistic Regression Accuracy: 74.06%\n",
    "#Decision Tree Accuracy: 73.44%\n",
    "#XG Boost Accuracy: 80.00%\n",
    "\n",
    "#Outlier Handling Model ->\n",
    "#Logistic Regression Accuracy: 67.81%\n",
    "#Decision Tree Accuracy: 66.25%\n",
    "#XG Boost Accuracy: 76.56%\n",
    "\n",
    "#Feature Dropped Model ->\n",
    "#Logistic Regression Accuracy: 73.75%\n",
    "#Decision Tree Accuracy: 72.19%\n",
    "#XG Boost Accuracy: 80.62%"
   ]
  },
  {
   "cell_type": "markdown",
   "id": "91f39d8e-229c-4449-ad6e-78630ef5a346",
   "metadata": {},
   "source": [
    "Dropping features decreases accuracy on Logistic Regression and Decision Tree but increases acuuracy on XG Boost"
   ]
  },
  {
   "cell_type": "code",
   "execution_count": 71,
   "id": "6d4818fe-fa62-4f22-b773-461632271db7",
   "metadata": {},
   "outputs": [
    {
     "data": {
      "text/html": [
       "<div>\n",
       "<style scoped>\n",
       "    .dataframe tbody tr th:only-of-type {\n",
       "        vertical-align: middle;\n",
       "    }\n",
       "\n",
       "    .dataframe tbody tr th {\n",
       "        vertical-align: top;\n",
       "    }\n",
       "\n",
       "    .dataframe thead th {\n",
       "        text-align: right;\n",
       "    }\n",
       "</style>\n",
       "<table border=\"1\" class=\"dataframe\">\n",
       "  <thead>\n",
       "    <tr style=\"text-align: right;\">\n",
       "      <th></th>\n",
       "      <th>fixed acidity</th>\n",
       "      <th>volatile acidity</th>\n",
       "      <th>citric acid</th>\n",
       "      <th>residual sugar</th>\n",
       "      <th>chlorides</th>\n",
       "      <th>free sulfur dioxide</th>\n",
       "      <th>total sulfur dioxide</th>\n",
       "      <th>density</th>\n",
       "      <th>pH</th>\n",
       "      <th>sulphates</th>\n",
       "      <th>alcohol</th>\n",
       "      <th>quality</th>\n",
       "    </tr>\n",
       "  </thead>\n",
       "  <tbody>\n",
       "    <tr>\n",
       "      <th>0</th>\n",
       "      <td>0.465409</td>\n",
       "      <td>0.443038</td>\n",
       "      <td>0.00</td>\n",
       "      <td>0.122581</td>\n",
       "      <td>0.124386</td>\n",
       "      <td>0.152778</td>\n",
       "      <td>0.117647</td>\n",
       "      <td>0.994132</td>\n",
       "      <td>0.875312</td>\n",
       "      <td>0.280</td>\n",
       "      <td>0.630872</td>\n",
       "      <td>5</td>\n",
       "    </tr>\n",
       "    <tr>\n",
       "      <th>1</th>\n",
       "      <td>0.490566</td>\n",
       "      <td>0.556962</td>\n",
       "      <td>0.00</td>\n",
       "      <td>0.167742</td>\n",
       "      <td>0.160393</td>\n",
       "      <td>0.347222</td>\n",
       "      <td>0.231834</td>\n",
       "      <td>0.993135</td>\n",
       "      <td>0.798005</td>\n",
       "      <td>0.340</td>\n",
       "      <td>0.657718</td>\n",
       "      <td>5</td>\n",
       "    </tr>\n",
       "    <tr>\n",
       "      <th>2</th>\n",
       "      <td>0.490566</td>\n",
       "      <td>0.481013</td>\n",
       "      <td>0.04</td>\n",
       "      <td>0.148387</td>\n",
       "      <td>0.150573</td>\n",
       "      <td>0.208333</td>\n",
       "      <td>0.186851</td>\n",
       "      <td>0.993335</td>\n",
       "      <td>0.812968</td>\n",
       "      <td>0.325</td>\n",
       "      <td>0.657718</td>\n",
       "      <td>5</td>\n",
       "    </tr>\n",
       "    <tr>\n",
       "      <th>3</th>\n",
       "      <td>0.704403</td>\n",
       "      <td>0.177215</td>\n",
       "      <td>0.56</td>\n",
       "      <td>0.122581</td>\n",
       "      <td>0.122750</td>\n",
       "      <td>0.236111</td>\n",
       "      <td>0.207612</td>\n",
       "      <td>0.994331</td>\n",
       "      <td>0.788030</td>\n",
       "      <td>0.290</td>\n",
       "      <td>0.657718</td>\n",
       "      <td>6</td>\n",
       "    </tr>\n",
       "    <tr>\n",
       "      <th>4</th>\n",
       "      <td>0.465409</td>\n",
       "      <td>0.443038</td>\n",
       "      <td>0.00</td>\n",
       "      <td>0.122581</td>\n",
       "      <td>0.124386</td>\n",
       "      <td>0.152778</td>\n",
       "      <td>0.117647</td>\n",
       "      <td>0.994132</td>\n",
       "      <td>0.875312</td>\n",
       "      <td>0.280</td>\n",
       "      <td>0.630872</td>\n",
       "      <td>5</td>\n",
       "    </tr>\n",
       "  </tbody>\n",
       "</table>\n",
       "</div>"
      ],
      "text/plain": [
       "   fixed acidity  volatile acidity  citric acid  residual sugar  chlorides  \\\n",
       "0       0.465409          0.443038         0.00        0.122581   0.124386   \n",
       "1       0.490566          0.556962         0.00        0.167742   0.160393   \n",
       "2       0.490566          0.481013         0.04        0.148387   0.150573   \n",
       "3       0.704403          0.177215         0.56        0.122581   0.122750   \n",
       "4       0.465409          0.443038         0.00        0.122581   0.124386   \n",
       "\n",
       "   free sulfur dioxide  total sulfur dioxide   density        pH  sulphates  \\\n",
       "0             0.152778              0.117647  0.994132  0.875312      0.280   \n",
       "1             0.347222              0.231834  0.993135  0.798005      0.340   \n",
       "2             0.208333              0.186851  0.993335  0.812968      0.325   \n",
       "3             0.236111              0.207612  0.994331  0.788030      0.290   \n",
       "4             0.152778              0.117647  0.994132  0.875312      0.280   \n",
       "\n",
       "    alcohol  quality  \n",
       "0  0.630872        5  \n",
       "1  0.657718        5  \n",
       "2  0.657718        5  \n",
       "3  0.657718        6  \n",
       "4  0.630872        5  "
      ]
     },
     "execution_count": 71,
     "metadata": {},
     "output_type": "execute_result"
    }
   ],
   "source": [
    "#Using maximum absolute scaling to normalize the features\n",
    "\n",
    "df_max_scaled = df_initial.copy(deep=True)\n",
    "  \n",
    "# apply normalization \n",
    "for column in df_max_scaled.columns:\n",
    "    if column != 'quality':\n",
    "        df_max_scaled[column] = df_max_scaled[column]  / df_max_scaled[column].abs().max()\n",
    "\n",
    "df_max_scaled.head()"
   ]
  },
  {
   "cell_type": "code",
   "execution_count": 72,
   "id": "655050ca-82dc-45e9-a1b4-0c05c8c80023",
   "metadata": {},
   "outputs": [
    {
     "name": "stdout",
     "output_type": "stream",
     "text": [
      "Logistic Regression Accuracy: 74.69%\n"
     ]
    }
   ],
   "source": [
    "logistic_regression(df_max_scaled, features, target)"
   ]
  },
  {
   "cell_type": "code",
   "execution_count": 73,
   "id": "f3eedf92-2bd0-4674-a082-b4155052a0fc",
   "metadata": {},
   "outputs": [
    {
     "name": "stdout",
     "output_type": "stream",
     "text": [
      "Decision Tree Accuracy: 73.44%\n"
     ]
    }
   ],
   "source": [
    "decision_tree(df_max_scaled, features, target)"
   ]
  },
  {
   "cell_type": "code",
   "execution_count": 74,
   "id": "65a3f841-2b86-4177-8d04-b7e14b07c7fe",
   "metadata": {},
   "outputs": [
    {
     "name": "stdout",
     "output_type": "stream",
     "text": [
      "XG Boost Accuracy: 79.69%\n"
     ]
    }
   ],
   "source": [
    "xg_Boost(df_max_scaled, features, target)"
   ]
  },
  {
   "cell_type": "code",
   "execution_count": 75,
   "id": "66afd9e4-ab10-4c3b-9a72-9df00f76fe6b",
   "metadata": {},
   "outputs": [],
   "source": [
    "#Original Model -> \n",
    "#Logistic Regression Accuracy: 74.06%\n",
    "#Decision Tree Accuracy: 73.44%\n",
    "#XG Boost Accuracy: 80.00%\n",
    "\n",
    "#Outlier Handling Model ->\n",
    "#Logistic Regression Accuracy: 67.81%\n",
    "#Decision Tree Accuracy: 66.25%\n",
    "#XG Boost Accuracy: 76.56%\n",
    "\n",
    "#Feature Dropped Model ->\n",
    "#Logistic Regression Accuracy: 73.75%\n",
    "#Decision Tree Accuracy: 72.19%\n",
    "#XG Boost Accuracy: 80.62%\n",
    "\n",
    "#Maximum Absolute Scaling Model ->\n",
    "#Logistic Regression Accuracy: 74.69%\n",
    "#Decision Tree Accuracy: 73.44%\n",
    "#XG Boost Accuracy: 79.69%"
   ]
  },
  {
   "cell_type": "markdown",
   "id": "ba2cde32-b70f-4deb-8fa2-f2725ac94c86",
   "metadata": {},
   "source": [
    "Maximum Absolute Scaling outperforms Original model on Logistic Regression and gives quite simillar performance on Decision Tree and XG Boost"
   ]
  },
  {
   "cell_type": "code",
   "execution_count": 76,
   "id": "2ec16804-b73f-4c70-9e8f-262b34e823a1",
   "metadata": {},
   "outputs": [
    {
     "data": {
      "text/html": [
       "<div>\n",
       "<style scoped>\n",
       "    .dataframe tbody tr th:only-of-type {\n",
       "        vertical-align: middle;\n",
       "    }\n",
       "\n",
       "    .dataframe tbody tr th {\n",
       "        vertical-align: top;\n",
       "    }\n",
       "\n",
       "    .dataframe thead th {\n",
       "        text-align: right;\n",
       "    }\n",
       "</style>\n",
       "<table border=\"1\" class=\"dataframe\">\n",
       "  <thead>\n",
       "    <tr style=\"text-align: right;\">\n",
       "      <th></th>\n",
       "      <th>fixed acidity</th>\n",
       "      <th>volatile acidity</th>\n",
       "      <th>citric acid</th>\n",
       "      <th>residual sugar</th>\n",
       "      <th>chlorides</th>\n",
       "      <th>free sulfur dioxide</th>\n",
       "      <th>total sulfur dioxide</th>\n",
       "      <th>density</th>\n",
       "      <th>pH</th>\n",
       "      <th>sulphates</th>\n",
       "      <th>alcohol</th>\n",
       "      <th>quality</th>\n",
       "    </tr>\n",
       "  </thead>\n",
       "  <tbody>\n",
       "    <tr>\n",
       "      <th>0</th>\n",
       "      <td>0.247788</td>\n",
       "      <td>0.397260</td>\n",
       "      <td>0.00</td>\n",
       "      <td>0.068493</td>\n",
       "      <td>0.106845</td>\n",
       "      <td>0.140845</td>\n",
       "      <td>0.098940</td>\n",
       "      <td>0.567548</td>\n",
       "      <td>0.606299</td>\n",
       "      <td>0.137725</td>\n",
       "      <td>0.153846</td>\n",
       "      <td>5</td>\n",
       "    </tr>\n",
       "    <tr>\n",
       "      <th>1</th>\n",
       "      <td>0.283186</td>\n",
       "      <td>0.520548</td>\n",
       "      <td>0.00</td>\n",
       "      <td>0.116438</td>\n",
       "      <td>0.143573</td>\n",
       "      <td>0.338028</td>\n",
       "      <td>0.215548</td>\n",
       "      <td>0.494126</td>\n",
       "      <td>0.362205</td>\n",
       "      <td>0.209581</td>\n",
       "      <td>0.215385</td>\n",
       "      <td>5</td>\n",
       "    </tr>\n",
       "    <tr>\n",
       "      <th>2</th>\n",
       "      <td>0.283186</td>\n",
       "      <td>0.438356</td>\n",
       "      <td>0.04</td>\n",
       "      <td>0.095890</td>\n",
       "      <td>0.133556</td>\n",
       "      <td>0.197183</td>\n",
       "      <td>0.169611</td>\n",
       "      <td>0.508811</td>\n",
       "      <td>0.409449</td>\n",
       "      <td>0.191617</td>\n",
       "      <td>0.215385</td>\n",
       "      <td>5</td>\n",
       "    </tr>\n",
       "    <tr>\n",
       "      <th>3</th>\n",
       "      <td>0.584071</td>\n",
       "      <td>0.109589</td>\n",
       "      <td>0.56</td>\n",
       "      <td>0.068493</td>\n",
       "      <td>0.105175</td>\n",
       "      <td>0.225352</td>\n",
       "      <td>0.190813</td>\n",
       "      <td>0.582232</td>\n",
       "      <td>0.330709</td>\n",
       "      <td>0.149701</td>\n",
       "      <td>0.215385</td>\n",
       "      <td>6</td>\n",
       "    </tr>\n",
       "    <tr>\n",
       "      <th>4</th>\n",
       "      <td>0.247788</td>\n",
       "      <td>0.397260</td>\n",
       "      <td>0.00</td>\n",
       "      <td>0.068493</td>\n",
       "      <td>0.106845</td>\n",
       "      <td>0.140845</td>\n",
       "      <td>0.098940</td>\n",
       "      <td>0.567548</td>\n",
       "      <td>0.606299</td>\n",
       "      <td>0.137725</td>\n",
       "      <td>0.153846</td>\n",
       "      <td>5</td>\n",
       "    </tr>\n",
       "  </tbody>\n",
       "</table>\n",
       "</div>"
      ],
      "text/plain": [
       "   fixed acidity  volatile acidity  citric acid  residual sugar  chlorides  \\\n",
       "0       0.247788          0.397260         0.00        0.068493   0.106845   \n",
       "1       0.283186          0.520548         0.00        0.116438   0.143573   \n",
       "2       0.283186          0.438356         0.04        0.095890   0.133556   \n",
       "3       0.584071          0.109589         0.56        0.068493   0.105175   \n",
       "4       0.247788          0.397260         0.00        0.068493   0.106845   \n",
       "\n",
       "   free sulfur dioxide  total sulfur dioxide   density        pH  sulphates  \\\n",
       "0             0.140845              0.098940  0.567548  0.606299   0.137725   \n",
       "1             0.338028              0.215548  0.494126  0.362205   0.209581   \n",
       "2             0.197183              0.169611  0.508811  0.409449   0.191617   \n",
       "3             0.225352              0.190813  0.582232  0.330709   0.149701   \n",
       "4             0.140845              0.098940  0.567548  0.606299   0.137725   \n",
       "\n",
       "    alcohol  quality  \n",
       "0  0.153846        5  \n",
       "1  0.215385        5  \n",
       "2  0.215385        5  \n",
       "3  0.215385        6  \n",
       "4  0.153846        5  "
      ]
     },
     "execution_count": 76,
     "metadata": {},
     "output_type": "execute_result"
    }
   ],
   "source": [
    "#Using min max scaling to normalize the features\n",
    "\n",
    "# copy the data\n",
    "df_min_max_scaled = df_initial.copy(deep=True)\n",
    "\n",
    "# apply normalization techniques\n",
    "for column in df_min_max_scaled.columns:\n",
    "    if column != 'quality':\n",
    "        df_min_max_scaled[column] = (df_min_max_scaled[column] - df_min_max_scaled[column].min()) / (df_min_max_scaled[column].max() - df_min_max_scaled[column].min())    \n",
    "\n",
    "        \n",
    "df_min_max_scaled.head()"
   ]
  },
  {
   "cell_type": "code",
   "execution_count": 77,
   "id": "4763dabb-65bd-4b5f-8426-9cd11ce32e88",
   "metadata": {},
   "outputs": [
    {
     "name": "stdout",
     "output_type": "stream",
     "text": [
      "Logistic Regression Accuracy: 73.75%\n"
     ]
    }
   ],
   "source": [
    "logistic_regression(df_min_max_scaled, features, target)"
   ]
  },
  {
   "cell_type": "code",
   "execution_count": 78,
   "id": "aff8d637-91a5-4bc2-bca0-3567f36cfb29",
   "metadata": {},
   "outputs": [
    {
     "name": "stdout",
     "output_type": "stream",
     "text": [
      "Decision Tree Accuracy: 73.75%\n"
     ]
    }
   ],
   "source": [
    "decision_tree(df_min_max_scaled, features, target)"
   ]
  },
  {
   "cell_type": "code",
   "execution_count": 79,
   "id": "73ea944a-9756-4397-b1b9-d9727940e6e3",
   "metadata": {},
   "outputs": [
    {
     "name": "stdout",
     "output_type": "stream",
     "text": [
      "XG Boost Accuracy: 80.00%\n"
     ]
    }
   ],
   "source": [
    "xg_Boost(df_min_max_scaled, features, target)"
   ]
  },
  {
   "cell_type": "code",
   "execution_count": 80,
   "id": "9bbd758a-4858-404b-aa84-938de94cefc1",
   "metadata": {},
   "outputs": [],
   "source": [
    "#Original Model -> \n",
    "#Logistic Regression Accuracy: 74.06%\n",
    "#Decision Tree Accuracy: 73.44%\n",
    "#XG Boost Accuracy: 80.00%\n",
    "\n",
    "#Outlier Handling Model ->\n",
    "#Logistic Regression Accuracy: 67.81%\n",
    "#Decision Tree Accuracy: 66.25%\n",
    "#XG Boost Accuracy: 76.56%\n",
    "\n",
    "#Feature Dropped Model ->\n",
    "#Logistic Regression Accuracy: 73.75%\n",
    "#Decision Tree Accuracy: 72.19%\n",
    "#XG Boost Accuracy: 80.62%\n",
    "\n",
    "#Maximum Absolute Scaling Model ->\n",
    "#Logistic Regression Accuracy: 74.69%\n",
    "#Decision Tree Accuracy: 73.44%\n",
    "#XG Boost Accuracy: 79.69%\n",
    "\n",
    "#Min Max scaling Model ->\n",
    "#Logistic Regression Accuracy: 73.75%\n",
    "#Decision Tree Accuracy: 73.75%\n",
    "#XG Boost Accuracy: 80.00%"
   ]
  },
  {
   "cell_type": "markdown",
   "id": "f841d2d1-816e-4e71-9c53-557d0a0eb032",
   "metadata": {},
   "source": [
    "Min Max Scaling does not outperform Original model on Logistic Regression but outperforms slightly it on Decision Tree while performs similar on XG Boost"
   ]
  },
  {
   "cell_type": "code",
   "execution_count": 84,
   "id": "f06f2ea4-1314-4a03-9a6a-63f473044cca",
   "metadata": {},
   "outputs": [],
   "source": [
    "#Logistic Regression performs best on Maximum Absolute Scaling Model with 74.69 % accuracy \n",
    "#Decision Tree performs best on Min Max Scaling Model with 73.75 % accuracy\n",
    "#XG Boost performs best on Feature Drop Model with 80.62 % accuracy which is also the best accuracy acheived on all models"
   ]
  },
  {
   "cell_type": "code",
   "execution_count": null,
   "id": "a0b99f68-534d-4ff6-bf01-dffbbbc2fbbd",
   "metadata": {},
   "outputs": [],
   "source": []
  }
 ],
 "metadata": {
  "kernelspec": {
   "display_name": "Python 3 (ipykernel)",
   "language": "python",
   "name": "python3"
  },
  "language_info": {
   "codemirror_mode": {
    "name": "ipython",
    "version": 3
   },
   "file_extension": ".py",
   "mimetype": "text/x-python",
   "name": "python",
   "nbconvert_exporter": "python",
   "pygments_lexer": "ipython3",
   "version": "3.8.10"
  }
 },
 "nbformat": 4,
 "nbformat_minor": 5
}
